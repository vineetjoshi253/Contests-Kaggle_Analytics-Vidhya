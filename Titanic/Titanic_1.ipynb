{
  "nbformat": 4,
  "nbformat_minor": 0,
  "metadata": {
    "colab": {
      "name": "Titanic.ipynb",
      "provenance": [],
      "collapsed_sections": [],
      "toc_visible": true,
      "include_colab_link": true
    },
    "kernelspec": {
      "name": "python3",
      "display_name": "Python 3"
    },
    "accelerator": "GPU"
  },
  "cells": [
    {
      "cell_type": "markdown",
      "metadata": {
        "id": "view-in-github",
        "colab_type": "text"
      },
      "source": [
        "<a href=\"https://colab.research.google.com/github/vineetjoshi253/Contests-Kaggle_Analytics-Vidhya/blob/master/Titanic/Titanic_1.ipynb\" target=\"_parent\"><img src=\"https://colab.research.google.com/assets/colab-badge.svg\" alt=\"Open In Colab\"/></a>"
      ]
    },
    {
      "cell_type": "markdown",
      "metadata": {
        "id": "WSy71hMRWJ4B",
        "colab_type": "text"
      },
      "source": [
        "**Ignore Warnings**"
      ]
    },
    {
      "cell_type": "code",
      "metadata": {
        "id": "pQWxEgEw6onB",
        "colab_type": "code",
        "colab": {}
      },
      "source": [
        "import warnings\n",
        "warnings.filterwarnings('ignore')"
      ],
      "execution_count": 0,
      "outputs": []
    },
    {
      "cell_type": "markdown",
      "metadata": {
        "id": "p-HjCdXy4CzO",
        "colab_type": "text"
      },
      "source": [
        "## 1. Data Preprocessing & Feature Engineering\n",
        " "
      ]
    },
    {
      "cell_type": "markdown",
      "metadata": {
        "id": "Sbc2HbAtWTBQ",
        "colab_type": "text"
      },
      "source": [
        "**1.2 Processing Age Attribute**</br>\n",
        "\n",
        "\n",
        "---\n",
        "\n",
        "\n",
        "There are total of 177 missing attributes. Either we can fill all of these with the mean of the  entire age column or we can be more specific and fill these with certain group values. \n",
        "Below, we are immuting the null age of a male passenger with the mean of other male passengers and similarly for the female passengers we are using the mean of the other female passengers. "
      ]
    },
    {
      "cell_type": "code",
      "metadata": {
        "id": "dnpHHWKR9jBU",
        "colab_type": "code",
        "outputId": "7be99923-b75c-451c-f4d6-a9cbc1863bde",
        "colab": {
          "base_uri": "https://localhost:8080/",
          "height": 105
        }
      },
      "source": [
        "import pandas as pd\n",
        "import numpy as np\n",
        "\n",
        "train_data = pd.read_csv('train.csv')\n",
        "features = train_data.columns.tolist()\n",
        "\n",
        "Remove = ['PassengerId','Cabin','Ticket','Fare']\n",
        "\n",
        "print(train_data.groupby('Sex')['Age'].mean())\n",
        "print('Average Age: ',train_data['Age'].mean(),sep=\"\")"
      ],
      "execution_count": 0,
      "outputs": [
        {
          "output_type": "stream",
          "text": [
            "Sex\n",
            "female    27.915709\n",
            "male      30.726645\n",
            "Name: Age, dtype: float64\n",
            "Average Age: 29.69911764705882\n"
          ],
          "name": "stdout"
        }
      ]
    },
    {
      "cell_type": "code",
      "metadata": {
        "id": "kfVnJ-5Ke3i8",
        "colab_type": "code",
        "colab": {}
      },
      "source": [
        "Mean = train_data.groupby('Sex')['Age'].mean().tolist()\n",
        "FemaleAvg = Mean[0]\n",
        "MaleAvg = Mean[1]"
      ],
      "execution_count": 0,
      "outputs": []
    },
    {
      "cell_type": "code",
      "metadata": {
        "id": "MFGVhrqHaxhW",
        "colab_type": "code",
        "outputId": "b6c7f300-5544-4270-8d9f-32fae63f58f6",
        "colab": {
          "base_uri": "https://localhost:8080/",
          "height": 34
        }
      },
      "source": [
        "import math\n",
        "for i in range(len(train_data['Age'])):\n",
        "  if(math.isnan(train_data['Age'][i])==True):\n",
        "    if(train_data['Sex'][i]=='male'):\n",
        "      train_data['Age'][i] = MaleAvg\n",
        "    else:\n",
        "      train_data['Age'][i] = FemaleAvg\n",
        "      \n",
        "print('Null Values Left: ',train_data['Age'].isna().sum(),sep=\"\")"
      ],
      "execution_count": 0,
      "outputs": [
        {
          "output_type": "stream",
          "text": [
            "Null Values Left: 0\n"
          ],
          "name": "stdout"
        }
      ]
    },
    {
      "cell_type": "markdown",
      "metadata": {
        "id": "U2vfFyfUYfO7",
        "colab_type": "text"
      },
      "source": [
        "**1.3 Processing Name Attribute**\n",
        "\n",
        "\n",
        "---\n",
        "\n",
        "Here the specific name of a person is of no use to us, but let us try to extract some information from their names.\n",
        "\n",
        "*All the name in the dataset has the format \"Surname, Title. Name\"*"
      ]
    },
    {
      "cell_type": "code",
      "metadata": {
        "id": "IMNN1XwWdIeh",
        "colab_type": "code",
        "colab": {}
      },
      "source": [
        "#Function to get title from a name.\n",
        "def get_title(name):\n",
        "    if '.' in name:\n",
        "        return name.split(',')[1].split('.')[0].strip()\n",
        "    else:\n",
        "        return 'Unknown'"
      ],
      "execution_count": 0,
      "outputs": []
    },
    {
      "cell_type": "code",
      "metadata": {
        "id": "WSTbJ9f9jjYN",
        "colab_type": "code",
        "outputId": "8042692a-16be-499f-8399-bafb0cf61b9c",
        "colab": {
          "base_uri": "https://localhost:8080/",
          "height": 54
        }
      },
      "source": [
        "Titles = []\n",
        "for i in range(len(train_data['Name'].tolist())):\n",
        "  Titles.append(get_title(train_data['Name'][i]))\n",
        "Titles = np.asarray(Titles)\n",
        "print(set(Titles))"
      ],
      "execution_count": 0,
      "outputs": [
        {
          "output_type": "stream",
          "text": [
            "{'Capt', 'Miss', 'Mr', 'Mlle', 'Mrs', 'Mme', 'Sir', 'the Countess', 'Major', 'Col', 'Dr', 'Don', 'Ms', 'Lady', 'Master', 'Rev', 'Jonkheer'}\n"
          ],
          "name": "stdout"
        }
      ]
    },
    {
      "cell_type": "code",
      "metadata": {
        "id": "BEyjZan_pGUG",
        "colab_type": "code",
        "colab": {}
      },
      "source": [
        "def replace_title(title,Sex):\n",
        "    if title in ['Capt', 'Col', 'Don', 'Jonkheer', 'Major', 'Rev', 'Sir']:\n",
        "        return 'Mr'\n",
        "    elif title in ['the Countess', 'Mme', 'Lady','Dona']:\n",
        "        return 'Mrs'\n",
        "    elif title in ['Mlle', 'Ms']:\n",
        "        return 'Miss'\n",
        "    elif title =='Dr':\n",
        "        if Sex == 'male':\n",
        "            return 'Mr'\n",
        "        else:\n",
        "            return 'Mrs'\n",
        "    else:\n",
        "        return title"
      ],
      "execution_count": 0,
      "outputs": []
    },
    {
      "cell_type": "code",
      "metadata": {
        "id": "INcFuS3Eqee3",
        "colab_type": "code",
        "outputId": "b22d4fdc-2fed-49fb-a8b9-0510592adff7",
        "colab": {
          "base_uri": "https://localhost:8080/",
          "height": 34
        }
      },
      "source": [
        "for i in range(len(Titles)):\n",
        "  Titles[i] = replace_title(Titles[i],train_data['Sex'][i])\n",
        "\n",
        "print(set(Titles))\n",
        "train_data['Name'] = Titles"
      ],
      "execution_count": 0,
      "outputs": [
        {
          "output_type": "stream",
          "text": [
            "{'Master', 'Miss', 'Mr', 'Mrs'}\n"
          ],
          "name": "stdout"
        }
      ]
    },
    {
      "cell_type": "markdown",
      "metadata": {
        "id": "hxGw0sKNr0_o",
        "colab_type": "text"
      },
      "source": [
        "**1.4 FamilySize and FarePerPerson**\n",
        "\n",
        "\n",
        "---\n",
        "\n",
        "Creating two new attributes, 'Family Size' and 'FarePerPerson' which are linear combinations of the 'SibSp’ and ‘Parch’ attributes and 'Fare' and 'FamilySize' attributes."
      ]
    },
    {
      "cell_type": "code",
      "metadata": {
        "id": "jB_4IgbMt20W",
        "colab_type": "code",
        "colab": {}
      },
      "source": [
        "train_data['FamilySize']=train_data['SibSp']+train_data['Parch']\n",
        "train_data['FarePerPerson']=train_data['Fare']/(train_data['FamilySize']+1)"
      ],
      "execution_count": 0,
      "outputs": []
    },
    {
      "cell_type": "markdown",
      "metadata": {
        "id": "slyh5ZQyyJi6",
        "colab_type": "text"
      },
      "source": [
        " **1.5 Processing Embarked**\n",
        "\n",
        "There are only two missing values in 'Embarked' column, a little bit research told us that both these passengers embarked from port 'S'."
      ]
    },
    {
      "cell_type": "code",
      "metadata": {
        "id": "AZaoESFww2S5",
        "colab_type": "code",
        "colab": {}
      },
      "source": [
        "train_data['Embarked'] = train_data['Embarked'].fillna('S')"
      ],
      "execution_count": 0,
      "outputs": []
    },
    {
      "cell_type": "markdown",
      "metadata": {
        "id": "tP_agiJ41rWI",
        "colab_type": "text"
      },
      "source": [
        "**1.6 Droping Unwanted Columns and Encoding To Numerical**\n",
        "\n",
        "---\n",
        "\n"
      ]
    },
    {
      "cell_type": "code",
      "metadata": {
        "id": "ST6cFw-pwZij",
        "colab_type": "code",
        "outputId": "64f09eb8-a471-4ed4-e054-8e94fd6e0566",
        "colab": {
          "base_uri": "https://localhost:8080/",
          "height": 70
        }
      },
      "source": [
        "for item in Remove:\n",
        "  train_data.drop(item,inplace=True,axis=1)\n",
        "\n",
        "print(train_data.columns)"
      ],
      "execution_count": 0,
      "outputs": [
        {
          "output_type": "stream",
          "text": [
            "Index(['Survived', 'Pclass', 'Name', 'Sex', 'Age', 'SibSp', 'Parch',\n",
            "       'Embarked', 'FamilySize', 'FarePerPerson'],\n",
            "      dtype='object')\n"
          ],
          "name": "stdout"
        }
      ]
    },
    {
      "cell_type": "code",
      "metadata": {
        "id": "r3JseqcQ3HD_",
        "colab_type": "code",
        "outputId": "c1cba8f6-d1c3-4627-b68c-675ea860bbff",
        "colab": {
          "base_uri": "https://localhost:8080/",
          "height": 122
        }
      },
      "source": [
        "from sklearn import preprocessing\n",
        "Encode = ['Name','Sex','Embarked']\n",
        "\n",
        "label_encoder = preprocessing.LabelEncoder() \n",
        "for item in Encode:\n",
        "  train_data[item]= label_encoder.fit_transform(train_data[item])\n",
        "\n",
        "print(train_data.sample(3))"
      ],
      "execution_count": 0,
      "outputs": [
        {
          "output_type": "stream",
          "text": [
            "     Survived  Pclass  Name  Sex  ...  Parch  Embarked  FamilySize  FarePerPerson\n",
            "323         1       1     1    0  ...      1         0           1        28.9896\n",
            "93          0       3     2    1  ...      0         2           0         8.0500\n",
            "284         1       3     1    0  ...      0         1           0         7.7500\n",
            "\n",
            "[3 rows x 10 columns]\n"
          ],
          "name": "stdout"
        }
      ]
    },
    {
      "cell_type": "markdown",
      "metadata": {
        "id": "5C74ySkH4w8A",
        "colab_type": "text"
      },
      "source": [
        "## 2. Getting Baseline Accuracy\n",
        "\n",
        "Using KFolds Cross Validation To Test The Following Models:\n",
        "\n",
        "\n",
        "\n",
        "*   Random Forest\n",
        "*   Support Vector Machine\n"
      ]
    },
    {
      "cell_type": "code",
      "metadata": {
        "id": "UGJjX1UU30h7",
        "colab_type": "code",
        "outputId": "eb853d15-e679-48ad-9f0b-0f05453f8eca",
        "colab": {
          "base_uri": "https://localhost:8080/",
          "height": 52
        }
      },
      "source": [
        "features = train_data.columns.tolist()\n",
        "features.pop(0)\n",
        "\n",
        "X = np.asarray(train_data[features].values)\n",
        "Y = np.asarray(train_data['Survived'])\n",
        "print(X.shape)\n",
        "print(Y.shape)"
      ],
      "execution_count": 0,
      "outputs": [
        {
          "output_type": "stream",
          "text": [
            "(881, 9)\n",
            "(881,)\n"
          ],
          "name": "stdout"
        }
      ]
    },
    {
      "cell_type": "markdown",
      "metadata": {
        "id": "4jkOCVKR6uIK",
        "colab_type": "text"
      },
      "source": [
        "### 2.1 Random Forest\n",
        "\n",
        "---\n",
        "\n"
      ]
    },
    {
      "cell_type": "code",
      "metadata": {
        "id": "Q1GABhHz6yKy",
        "colab_type": "code",
        "outputId": "57f664c9-67db-4d67-fa9c-13d686eb0f32",
        "colab": {
          "base_uri": "https://localhost:8080/",
          "height": 52
        }
      },
      "source": [
        "from sklearn.ensemble import RandomForestClassifier\n",
        "from sklearn.metrics import accuracy_score \n",
        "from sklearn.model_selection import KFold\n",
        "\n",
        "\n",
        "kfold = KFold(5)\n",
        "\n",
        "Results = []\n",
        "for train,test in kfold.split(X):\n",
        "  Xtrain = X[train]\n",
        "  Xtest  = X[test]\n",
        "  Ytrain = Y[train]\n",
        "  Ytest = Y[test]\n",
        "    \n",
        "  model = RandomForestClassifier()\n",
        "  model.fit(Xtrain,Ytrain)\n",
        "  Ypred = model.predict(Xtest)\n",
        "  Results.append(accuracy_score(Ytest,Ypred))\n",
        "       \n",
        "Results = np.asarray(Results)\n",
        "print('Random Forest')\n",
        "print(Results.mean())\n",
        "    "
      ],
      "execution_count": 0,
      "outputs": [
        {
          "output_type": "stream",
          "text": [
            "Random Forest\n",
            "0.8127182845403185\n"
          ],
          "name": "stdout"
        }
      ]
    },
    {
      "cell_type": "markdown",
      "metadata": {
        "id": "haoFrhVT-8Zy",
        "colab_type": "text"
      },
      "source": [
        "**2.1.1 Random Forest: Hyperparameter Tuning Using GridSearch**\n",
        "\n",
        "---\n",
        "\n"
      ]
    },
    {
      "cell_type": "code",
      "metadata": {
        "id": "ybsMlB7o_GUA",
        "colab_type": "code",
        "colab": {}
      },
      "source": [
        "from sklearn.model_selection import GridSearchCV\n",
        "\n",
        "model = RandomForestClassifier(random_state=1, n_jobs=-1)\n",
        "\n",
        "param_grid = {\"criterion\" : [\"gini\", \"entropy\"], \"min_samples_leaf\" : [1, 5, 10], \"min_samples_split\" : [2, 4, 10, 12, 16], \"n_estimators\": [50, 100, 400, 700, 1000]}\n",
        "\n",
        "gs = GridSearchCV(estimator=model, param_grid=param_grid, scoring='accuracy', cv=3, n_jobs=-1)\n",
        "\n",
        "gs = gs.fit(X,Y)\n",
        "\n",
        "print(gs.best_score_)\n",
        "print(gs.best_estimator_)"
      ],
      "execution_count": 0,
      "outputs": []
    },
    {
      "cell_type": "markdown",
      "metadata": {
        "id": "S-cLkUdVFpTm",
        "colab_type": "text"
      },
      "source": [
        "**2.1.2 Tuned Random Forest**\n",
        "\n",
        "---\n",
        "\n"
      ]
    },
    {
      "cell_type": "code",
      "metadata": {
        "id": "7bUYBeWlFv9h",
        "colab_type": "code",
        "outputId": "95a8a3f8-fc68-4cd8-f394-7552ab96fe99",
        "colab": {
          "base_uri": "https://localhost:8080/",
          "height": 52
        }
      },
      "source": [
        "kfold = KFold(5)\n",
        "\n",
        "Results = []\n",
        "for train,test in kfold.split(X):\n",
        "  Xtrain = X[train]\n",
        "  Xtest  = X[test]\n",
        "  Ytrain = Y[train]\n",
        "  Ytest = Y[test]\n",
        "    \n",
        "  model = RandomForestClassifier(bootstrap=True, class_weight=None, criterion='gini',\n",
        "                       max_depth=None, max_features='auto', max_leaf_nodes=None,\n",
        "                       min_impurity_decrease=0.0, min_impurity_split=None,\n",
        "                       min_samples_leaf=1, min_samples_split=10,\n",
        "                       min_weight_fraction_leaf=0.0, n_estimators=700,\n",
        "                       n_jobs=-1, oob_score=False, random_state=1, verbose=0,\n",
        "                       warm_start=False)\n",
        "  \n",
        "  model.fit(Xtrain,Ytrain)\n",
        "  Ypred = model.predict(Xtest)\n",
        "  Results.append(accuracy_score(Ytest,Ypred))\n",
        "       \n",
        "Results = np.asarray(Results)\n",
        "print('Random Forest')\n",
        "print(Results.mean())\n"
      ],
      "execution_count": 0,
      "outputs": [
        {
          "output_type": "stream",
          "text": [
            "Random Forest\n",
            "0.8342835130970725\n"
          ],
          "name": "stdout"
        }
      ]
    },
    {
      "cell_type": "markdown",
      "metadata": {
        "id": "vSZ4enA7GGwm",
        "colab_type": "text"
      },
      "source": [
        "### 2.2 Support Vector Machine"
      ]
    },
    {
      "cell_type": "code",
      "metadata": {
        "id": "GscxeeSxGNGY",
        "colab_type": "code",
        "outputId": "19a2d98e-7cd6-4665-b866-679310707e31",
        "colab": {
          "base_uri": "https://localhost:8080/",
          "height": 52
        }
      },
      "source": [
        "from sklearn.svm import SVC\n",
        "kfold = KFold(5)\n",
        "\n",
        "Results = []\n",
        "for train,test in kfold.split(X):\n",
        "  Xtrain = X[train]\n",
        "  Xtest  = X[test]\n",
        "  Ytrain = Y[train]\n",
        "  Ytest = Y[test]\n",
        "    \n",
        "  model = SVC()\n",
        "  model.fit(Xtrain,Ytrain)\n",
        "  Ypred = model.predict(Xtest)\n",
        "  Results.append(accuracy_score(Ytest,Ypred))\n",
        "       \n",
        "Results = np.asarray(Results)\n",
        "print('Support Vector Machine')\n",
        "print(Results.mean())"
      ],
      "execution_count": 0,
      "outputs": [
        {
          "output_type": "stream",
          "text": [
            "Support Vector Machine\n",
            "0.7605482794042117\n"
          ],
          "name": "stdout"
        }
      ]
    },
    {
      "cell_type": "markdown",
      "metadata": {
        "id": "18es7FqDHOrw",
        "colab_type": "text"
      },
      "source": [
        "**2.2.1 Support Vector Machine: Hyperparameter Tuning Using GridSearch**\n",
        "\n",
        "---\n",
        "\n"
      ]
    },
    {
      "cell_type": "code",
      "metadata": {
        "id": "8PT5yXodHZuV",
        "colab_type": "code",
        "colab": {}
      },
      "source": [
        "from sklearn.model_selection import GridSearchCV\n",
        "\n",
        "param_grid = {'C': [0.001, 0.01, 0.1, 1, 10], 'gamma' : [0.001, 0.01, 0.1, 1]}\n",
        "\n",
        "model = SVC()\n",
        "gs = GridSearchCV(estimator=model, param_grid=param_grid, scoring='accuracy', cv=3, n_jobs=-1)\n",
        "gs = gs.fit(X,Y)\n",
        "\n",
        "print(gs.best_score_)\n",
        "print(gs.best_estimator_)"
      ],
      "execution_count": 0,
      "outputs": []
    },
    {
      "cell_type": "markdown",
      "metadata": {
        "id": "NlUZBxQw86l7",
        "colab_type": "text"
      },
      "source": [
        "**2.2.2 Tuned Support Vector Machine**\n",
        "\n",
        "---\n",
        "\n"
      ]
    },
    {
      "cell_type": "code",
      "metadata": {
        "id": "Mo79NIu49C9K",
        "colab_type": "code",
        "outputId": "8a0108ff-5d7d-484d-e2a8-4f08e1949792",
        "colab": {
          "base_uri": "https://localhost:8080/",
          "height": 52
        }
      },
      "source": [
        "kfold = KFold(5)\n",
        "\n",
        "Results = []\n",
        "for train,test in kfold.split(X):\n",
        "  Xtrain = X[train]\n",
        "  Xtest  = X[test]\n",
        "  Ytrain = Y[train]\n",
        "  Ytest = Y[test]\n",
        "    \n",
        "  model = SVC(C=10, cache_size=200, class_weight=None, coef0=0.0,\n",
        "              decision_function_shape='ovr', degree=3, gamma=0.01, kernel='rbf',\n",
        "              max_iter=-1, probability=False, random_state=None, shrinking=True,\n",
        "              tol=0.001, verbose=False)\n",
        "  \n",
        "  model.fit(Xtrain,Ytrain)\n",
        "  Ypred = model.predict(Xtest)\n",
        "  Results.append(accuracy_score(Ytest,Ypred))\n",
        "       \n",
        "Results = np.asarray(Results)\n",
        "print('Support Vector Machine')\n",
        "print(Results.mean())"
      ],
      "execution_count": 0,
      "outputs": [
        {
          "output_type": "stream",
          "text": [
            "Support Vector Machine\n",
            "0.7911594761171032\n"
          ],
          "name": "stdout"
        }
      ]
    },
    {
      "cell_type": "markdown",
      "metadata": {
        "id": "NNsjh_abBhjP",
        "colab_type": "text"
      },
      "source": [
        "### 2.3 XGBoost"
      ]
    },
    {
      "cell_type": "code",
      "metadata": {
        "id": "u6UeFE1sBrl3",
        "colab_type": "code",
        "outputId": "1c088242-87f2-4e62-be4b-67a9b1e0450c",
        "colab": {
          "base_uri": "https://localhost:8080/",
          "height": 52
        }
      },
      "source": [
        "import xgboost as xgb\n",
        "kfold = KFold(5)\n",
        "\n",
        "Results = []\n",
        "for train,test in kfold.split(X):\n",
        "  Xtrain = X[train]\n",
        "  Xtest  = X[test]\n",
        "  Ytrain = Y[train]\n",
        "  Ytest = Y[test]\n",
        "    \n",
        "  model =  xgb.XGBClassifier(max_depth=3, n_estimators=300, learning_rate=0.05)\n",
        "  \n",
        "  model.fit(Xtrain,Ytrain)\n",
        "  Ypred = model.predict(Xtest)\n",
        "  Results.append(accuracy_score(Ytest,Ypred))\n",
        "       \n",
        "Results = np.asarray(Results)\n",
        "print('XGBoost')\n",
        "print(Results.mean())"
      ],
      "execution_count": 0,
      "outputs": [
        {
          "output_type": "stream",
          "text": [
            "XGBoost\n",
            "0.8365498202362609\n"
          ],
          "name": "stdout"
        }
      ]
    },
    {
      "cell_type": "markdown",
      "metadata": {
        "id": "NhFSqHKO-oo1",
        "colab_type": "text"
      },
      "source": [
        "## 3. Ensemble Model\n",
        "\n",
        "---\n",
        "\n"
      ]
    },
    {
      "cell_type": "markdown",
      "metadata": {
        "id": "84DDGVjS-_kJ",
        "colab_type": "text"
      },
      "source": [
        "**3.1 Max Voting Ensemble**"
      ]
    },
    {
      "cell_type": "code",
      "metadata": {
        "id": "2ndWsDeq-9aO",
        "colab_type": "code",
        "outputId": "0ac515ae-1d00-479a-8034-629877c95d6b",
        "colab": {
          "base_uri": "https://localhost:8080/",
          "height": 52
        }
      },
      "source": [
        "from sklearn.ensemble import VotingClassifier\n",
        "\n",
        "model1 = RandomForestClassifier(bootstrap=True, class_weight=None, criterion='gini',\n",
        "                       max_depth=None, max_features='auto', max_leaf_nodes=None,\n",
        "                       min_impurity_decrease=0.0, min_impurity_split=None,\n",
        "                       min_samples_leaf=1, min_samples_split=10,\n",
        "                       min_weight_fraction_leaf=0.0, n_estimators=700,\n",
        "                       n_jobs=-1, oob_score=False, random_state=1, verbose=0,\n",
        "                       warm_start=False)\n",
        "\n",
        "model2 = SVC(C=10, cache_size=200, class_weight=None, coef0=0.0,\n",
        "              decision_function_shape='ovr', degree=3, gamma=0.01, kernel='rbf',\n",
        "              max_iter=-1, probability=False, random_state=None, shrinking=True,\n",
        "              tol=0.001, verbose=False)\n",
        "  \n",
        "\n",
        "model3 = xgb.XGBClassifier(max_depth=3, n_estimators=300, learning_rate=0.05)\n",
        "\n",
        "\n",
        "kfold = KFold(5)\n",
        "\n",
        "Results = []\n",
        "for train,test in kfold.split(X):\n",
        "  Xtrain = X[train]\n",
        "  Xtest  = X[test]\n",
        "  Ytrain = Y[train]\n",
        "  Ytest = Y[test]\n",
        "    \n",
        "  model = VotingClassifier(estimators=[('RF', model1),('SVC',model2),('XGB', model3)], voting='hard')\n",
        "  \n",
        "  model.fit(Xtrain,Ytrain)\n",
        "  Ypred = model.predict(Xtest)\n",
        "  Results.append(accuracy_score(Ytest,Ypred))\n",
        "       \n",
        "Results = np.asarray(Results)\n",
        "print('Max Voting Ensemble: RF + XGB + SVM')\n",
        "print(Results.mean())"
      ],
      "execution_count": 0,
      "outputs": [
        {
          "output_type": "stream",
          "text": [
            "Max Voting Ensemble: RF + XGB + SVM\n",
            "0.830861581920904\n"
          ],
          "name": "stdout"
        }
      ]
    },
    {
      "cell_type": "markdown",
      "metadata": {
        "id": "LoeA7Vc4GJYe",
        "colab_type": "text"
      },
      "source": [
        "## 3. Final Model\n",
        "\n",
        "---\n",
        "\n"
      ]
    },
    {
      "cell_type": "code",
      "metadata": {
        "id": "cp24EYFjGQ07",
        "colab_type": "code",
        "outputId": "7a189156-5480-43a5-fb32-5fe33605e9a2",
        "colab": {
          "base_uri": "https://localhost:8080/",
          "height": 34
        }
      },
      "source": [
        "model1 = RandomForestClassifier(bootstrap=True, class_weight=None, criterion='gini',\n",
        "                       max_depth=None, max_features='auto', max_leaf_nodes=None,\n",
        "                       min_impurity_decrease=0.0, min_impurity_split=None,\n",
        "                       min_samples_leaf=1, min_samples_split=10,\n",
        "                       min_weight_fraction_leaf=0.0, n_estimators=700,\n",
        "                       n_jobs=-1, oob_score=False, random_state=1, verbose=0,\n",
        "                       warm_start=False)\n",
        "model2 = SVC(C=10, cache_size=200, class_weight=None, coef0=0.0,\n",
        "              decision_function_shape='ovr', degree=3, gamma=0.01, kernel='rbf',\n",
        "              max_iter=-1, probability=False, random_state=None, shrinking=True,\n",
        "              tol=0.001, verbose=False)\n",
        "  \n",
        "\n",
        "model3 = xgb.XGBClassifier(max_depth=3, n_estimators=300, learning_rate=0.05)\n",
        "\n",
        "model = VotingClassifier(estimators=[('RF', model1),('SVC', model2),('XGB', model3)], voting='hard')\n",
        "\n",
        "model.fit(X,Y)\n",
        "print('Model Ready')"
      ],
      "execution_count": 0,
      "outputs": [
        {
          "output_type": "stream",
          "text": [
            "Model Ready\n"
          ],
          "name": "stdout"
        }
      ]
    },
    {
      "cell_type": "markdown",
      "metadata": {
        "id": "Gn2QllhwHTrS",
        "colab_type": "text"
      },
      "source": [
        "## 4. Processing Test Data\n",
        "\n",
        "---\n",
        "\n"
      ]
    },
    {
      "cell_type": "markdown",
      "metadata": {
        "id": "WWAtoeN4IW9C",
        "colab_type": "text"
      },
      "source": [
        "**4.1 Handling Missing Values**"
      ]
    },
    {
      "cell_type": "code",
      "metadata": {
        "id": "1yqG2-y2HZEZ",
        "colab_type": "code",
        "outputId": "ec50d95d-5aaa-4d7a-cdb0-b4da2a7789ce",
        "colab": {
          "base_uri": "https://localhost:8080/",
          "height": 228
        }
      },
      "source": [
        "test_data = pd.read_csv('test.csv')\n",
        "\n",
        "print(test_data.isna().sum())"
      ],
      "execution_count": 0,
      "outputs": [
        {
          "output_type": "stream",
          "text": [
            "PassengerId      0\n",
            "Pclass           0\n",
            "Name             0\n",
            "Sex              0\n",
            "Age             86\n",
            "SibSp            0\n",
            "Parch            0\n",
            "Ticket           0\n",
            "Fare             1\n",
            "Cabin          327\n",
            "Embarked         0\n",
            "dtype: int64\n"
          ],
          "name": "stdout"
        }
      ]
    },
    {
      "cell_type": "code",
      "metadata": {
        "id": "OsCQ54ScHrI8",
        "colab_type": "code",
        "outputId": "0673a9a6-d3eb-4a91-b2a7-e9b8ee3be3ca",
        "colab": {
          "base_uri": "https://localhost:8080/",
          "height": 52
        }
      },
      "source": [
        "test_data['Fare'] = test_data['Fare'].fillna(test_data['Fare'].mean())\n",
        "Mean = test_data.groupby('Sex')['Age'].mean().tolist()\n",
        "FemaleAvg = Mean[0]\n",
        "MaleAvg = Mean[1]\n",
        "\n",
        "print(FemaleAvg)\n",
        "print(MaleAvg)"
      ],
      "execution_count": 0,
      "outputs": [
        {
          "output_type": "stream",
          "text": [
            "30.27236220472441\n",
            "30.27273170731707\n"
          ],
          "name": "stdout"
        }
      ]
    },
    {
      "cell_type": "code",
      "metadata": {
        "id": "cmDejXuoH6kk",
        "colab_type": "code",
        "outputId": "eef902cc-4193-48f9-ba3a-0482429f4dde",
        "colab": {
          "base_uri": "https://localhost:8080/",
          "height": 34
        }
      },
      "source": [
        "import math\n",
        "for i in range(len(test_data['Age'])):\n",
        "  if(math.isnan(test_data['Age'][i])==True):\n",
        "    if(test_data['Sex'][i]=='male'):\n",
        "      test_data['Age'][i] = MaleAvg\n",
        "    else:\n",
        "      test_data['Age'][i] = FemaleAvg\n",
        "      \n",
        "print('Null Values Left: ',test_data['Age'].isna().sum(),sep=\"\")"
      ],
      "execution_count": 0,
      "outputs": [
        {
          "output_type": "stream",
          "text": [
            "Null Values Left: 0\n"
          ],
          "name": "stdout"
        }
      ]
    },
    {
      "cell_type": "markdown",
      "metadata": {
        "id": "Ckb3cUgIIOEZ",
        "colab_type": "text"
      },
      "source": [
        "**4.2 Extracting Titles From Names**"
      ]
    },
    {
      "cell_type": "code",
      "metadata": {
        "id": "1mhtrUTrIica",
        "colab_type": "code",
        "outputId": "972240fa-f1fe-4bd8-ecbc-d73a646b0a6e",
        "colab": {
          "base_uri": "https://localhost:8080/",
          "height": 34
        }
      },
      "source": [
        "Titles = []\n",
        "for i in range(len(test_data['Name'].tolist())):\n",
        "  Titles.append(get_title(test_data['Name'][i]))\n",
        "Titles = np.asarray(Titles)\n",
        "print(set(Titles))"
      ],
      "execution_count": 0,
      "outputs": [
        {
          "output_type": "stream",
          "text": [
            "{'Rev', 'Dr', 'Mr', 'Miss', 'Master', 'Col', 'Dona', 'Ms', 'Mrs'}\n"
          ],
          "name": "stdout"
        }
      ]
    },
    {
      "cell_type": "code",
      "metadata": {
        "id": "XRkGVPWoIrnX",
        "colab_type": "code",
        "outputId": "9013ecb9-8c2a-473b-f70b-4a7573bcfa60",
        "colab": {
          "base_uri": "https://localhost:8080/",
          "height": 34
        }
      },
      "source": [
        "for i in range(len(Titles)):\n",
        "  Titles[i] = replace_title(Titles[i],test_data['Sex'][i])\n",
        "\n",
        "print(set(Titles))\n",
        "test_data['Name'] = Titles"
      ],
      "execution_count": 0,
      "outputs": [
        {
          "output_type": "stream",
          "text": [
            "{'Miss', 'Master', 'Mr', 'Mrs'}\n"
          ],
          "name": "stdout"
        }
      ]
    },
    {
      "cell_type": "markdown",
      "metadata": {
        "id": "wnWpoX_iJGZ8",
        "colab_type": "text"
      },
      "source": [
        "**4.3 FamilySize and FarePerPerson**"
      ]
    },
    {
      "cell_type": "code",
      "metadata": {
        "id": "dJkMMaGFJI7M",
        "colab_type": "code",
        "colab": {}
      },
      "source": [
        "test_data['FamilySize']=test_data['SibSp']+test_data['Parch']\n",
        "test_data['FarePerPerson']=test_data['Fare']/(test_data['FamilySize']+1)"
      ],
      "execution_count": 0,
      "outputs": []
    },
    {
      "cell_type": "markdown",
      "metadata": {
        "id": "opCW3gw9JTO8",
        "colab_type": "text"
      },
      "source": [
        "**4.4 Droping Unwanted Columns and Encoding To Numerical**"
      ]
    },
    {
      "cell_type": "code",
      "metadata": {
        "id": "iyjGLaHXJZbm",
        "colab_type": "code",
        "outputId": "f090c9c5-f4aa-4404-e3d3-81c40666e219",
        "colab": {
          "base_uri": "https://localhost:8080/",
          "height": 70
        }
      },
      "source": [
        "for item in Remove:\n",
        "  test_data.drop(item,inplace=True,axis=1)\n",
        "\n",
        "print(test_data.columns)"
      ],
      "execution_count": 0,
      "outputs": [
        {
          "output_type": "stream",
          "text": [
            "Index(['Pclass', 'Name', 'Sex', 'Age', 'SibSp', 'Parch', 'Embarked',\n",
            "       'FamilySize', 'FarePerPerson'],\n",
            "      dtype='object')\n"
          ],
          "name": "stdout"
        }
      ]
    },
    {
      "cell_type": "code",
      "metadata": {
        "id": "o5M-1QOiJoBE",
        "colab_type": "code",
        "outputId": "58553942-2118-4582-a955-f268466de05f",
        "colab": {
          "base_uri": "https://localhost:8080/",
          "height": 122
        }
      },
      "source": [
        "Encode = ['Name','Sex','Embarked']\n",
        "\n",
        "label_encoder = preprocessing.LabelEncoder() \n",
        "for item in Encode:\n",
        "  test_data[item]= label_encoder.fit_transform(test_data[item])\n",
        "\n",
        "print(test_data.sample(3))"
      ],
      "execution_count": 0,
      "outputs": [
        {
          "output_type": "stream",
          "text": [
            "     Pclass  Name  Sex        Age  ...  Parch  Embarked  FamilySize  FarePerPerson\n",
            "295       3     2    1  26.000000  ...      0         2           0         7.8958\n",
            "292       3     2    1  30.272732  ...      0         0           0         7.2292\n",
            "54        2     2    1  30.272732  ...      0         0           0        15.5792\n",
            "\n",
            "[3 rows x 9 columns]\n"
          ],
          "name": "stdout"
        }
      ]
    },
    {
      "cell_type": "markdown",
      "metadata": {
        "id": "1Vrit6iaJwpT",
        "colab_type": "text"
      },
      "source": [
        "## 5. Get Submission\n",
        "\n",
        "---\n",
        "\n"
      ]
    },
    {
      "cell_type": "code",
      "metadata": {
        "id": "QaJCUSQCJ623",
        "colab_type": "code",
        "outputId": "b8a28022-836f-4d54-daa2-5d536194402f",
        "colab": {
          "base_uri": "https://localhost:8080/",
          "height": 52
        }
      },
      "source": [
        "features = test_data.columns.tolist()\n",
        "print(features)\n",
        "\n",
        "Xtest = np.asarray(test_data[features].values)\n",
        "print(Xtest.shape)"
      ],
      "execution_count": 0,
      "outputs": [
        {
          "output_type": "stream",
          "text": [
            "['Pclass', 'Name', 'Sex', 'Age', 'SibSp', 'Parch', 'Embarked', 'FamilySize', 'FarePerPerson']\n",
            "(418, 9)\n"
          ],
          "name": "stdout"
        }
      ]
    },
    {
      "cell_type": "code",
      "metadata": {
        "id": "5YyYT5OBKQLH",
        "colab_type": "code",
        "outputId": "4a9516cd-da82-4421-c85e-91fb83ec1a8b",
        "colab": {
          "base_uri": "https://localhost:8080/",
          "height": 34
        }
      },
      "source": [
        "Ypred = model.predict(Xtest)\n",
        "print(Ypred.shape)"
      ],
      "execution_count": 0,
      "outputs": [
        {
          "output_type": "stream",
          "text": [
            "(418,)\n"
          ],
          "name": "stdout"
        }
      ]
    },
    {
      "cell_type": "code",
      "metadata": {
        "id": "LvgRu2AXMast",
        "colab_type": "code",
        "colab": {}
      },
      "source": [
        "Solution = pd.read_csv('Solution.csv')\n",
        "for i in range(len(Solution['Survived'])):\n",
        "  Solution['Survived'][i] = Ypred[i]\n",
        "  \n",
        "Solution.to_csv('FinalSolution.csv')"
      ],
      "execution_count": 0,
      "outputs": []
    }
  ]
}